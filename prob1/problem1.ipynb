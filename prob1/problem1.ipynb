{
 "cells": [
  {
   "cell_type": "code",
   "execution_count": 27,
   "id": "5ced0215",
   "metadata": {},
   "outputs": [],
   "source": [
    "import pandas as pd\n",
    "import matplotlib.pyplot as plt\n",
    "\n",
    "# =========================\n",
    "# Load all FAH sheets\n",
    "# =========================\n",
    "xls = pd.ExcelFile(\"../Appendix B (shares).xls\")\n",
    "\n",
    "sheets = {\n",
    "    \"1994-98\": \"94-98 FAH\",\n",
    "    \"2003-04\": \"03-04 FAH\",\n",
    "    \"2005-06\": \"05-06 FAH\",\n",
    "    \"2007-08\": \"07-08 FAH\"\n",
    "}\n",
    "\n",
    "# Fruits and Dairy lists\n",
    "fruits = [p.lower() for p in [\n",
    "    \"Apples as fruit\", \"Bananas\", \"Berries\", \"Grapes\",\n",
    "    \"Melons\", \"Oranges, Total\", \"Other citrus fruit\",\n",
    "    \"Stone fruit\", \"Tropical fruit\"\n",
    "]]\n",
    "\n",
    "dairy = [p.lower() for p in [\n",
    "    \"Fluid milk total\", \"Butter\", \"Cheese\", \"Yogurt\", \"Dairy, Other\"\n",
    "]]\n",
    "\n"
   ]
  },
  {
   "cell_type": "code",
   "execution_count": 28,
   "id": "c1b085b3",
   "metadata": {},
   "outputs": [],
   "source": [
    "def extract_data(sheet_name, group=\"Men\"):\n",
    "    df = pd.read_excel(xls, sheet_name=sheet_name, header=None)\n",
    "    col_map = {\"Boys\": 1, \"Girls\": 4, \"Men\": 7, \"Women\": 10}\n",
    "    sub = df.iloc[77:, [0, col_map[group]]]\n",
    "    sub.columns = [\"Product\", \"Mean\"]\n",
    "\n",
    "    # Normalize names\n",
    "    sub[\"Product\"] = sub[\"Product\"].astype(str).str.strip().str.lower()\n",
    "    sub = sub.dropna().reset_index(drop=True)\n",
    "    return sub\n",
    "\n",
    "\n"
   ]
  },
  {
   "cell_type": "code",
   "execution_count": 30,
   "id": "027615e6",
   "metadata": {},
   "outputs": [],
   "source": [
    "def build_dataset(group, product_list):\n",
    "    records = {}\n",
    "    normalized_list = [p.lower() for p in product_list]  # lowercase lookup list\n",
    "\n",
    "    for period, sheet in sheets.items():\n",
    "        extracted = extract_data(sheet, group=group)\n",
    "        extracted = extracted[extracted[\"Product\"].isin(normalized_list)]\n",
    "        records[period] = extracted.set_index(\"Product\")[\"Mean\"]\n",
    "\n",
    "    df_all = pd.DataFrame(records)\n",
    "\n",
    "    # Keep only products that actually exist\n",
    "    df_all = df_all.loc[df_all.index.intersection(normalized_list)]\n",
    "\n",
    "    return df_all\n",
    "\n",
    "men_fruits = build_dataset(\"Men\", fruits)\n",
    "women_fruits = build_dataset(\"Women\", fruits)\n",
    "men_dairy = build_dataset(\"Men\", dairy)\n",
    "women_dairy = build_dataset(\"Women\", dairy)\n"
   ]
  },
  {
   "cell_type": "code",
   "execution_count": 31,
   "id": "d73e9589",
   "metadata": {},
   "outputs": [
    {
     "name": "stdout",
     "output_type": "stream",
     "text": [
      "Index(['apples as fruit', 'apples as fruit', 'apples as fruit', 'bananas',\n",
      "       'bananas', 'bananas', 'berries', 'berries', 'berries', 'grapes',\n",
      "       'grapes', 'grapes', 'melons', 'melons', 'melons', 'oranges, total',\n",
      "       'oranges, total', 'oranges, total', 'other citrus fruit',\n",
      "       'other citrus fruit', 'other citrus fruit', 'stone fruit',\n",
      "       'stone fruit', 'stone fruit', 'tropical fruit', 'tropical fruit',\n",
      "       'tropical fruit'],\n",
      "      dtype='object', name='Product')\n",
      "Index(['apples as fruit', 'apples as fruit', 'apples as fruit', 'bananas',\n",
      "       'bananas', 'bananas', 'berries', 'berries', 'berries', 'grapes',\n",
      "       'grapes', 'grapes', 'melons', 'melons', 'melons', 'oranges, total',\n",
      "       'oranges, total', 'oranges, total', 'other citrus fruit',\n",
      "       'other citrus fruit', 'other citrus fruit', 'stone fruit',\n",
      "       'stone fruit', 'stone fruit', 'tropical fruit', 'tropical fruit',\n",
      "       'tropical fruit'],\n",
      "      dtype='object', name='Product')\n"
     ]
    }
   ],
   "source": [
    "print(men_fruits.index)\n",
    "print(women_fruits.index)\n",
    "\n"
   ]
  }
 ],
 "metadata": {
  "kernelspec": {
   "display_name": "Python 3",
   "language": "python",
   "name": "python3"
  },
  "language_info": {
   "codemirror_mode": {
    "name": "ipython",
    "version": 3
   },
   "file_extension": ".py",
   "mimetype": "text/x-python",
   "name": "python",
   "nbconvert_exporter": "python",
   "pygments_lexer": "ipython3",
   "version": "3.13.3"
  }
 },
 "nbformat": 4,
 "nbformat_minor": 5
}
